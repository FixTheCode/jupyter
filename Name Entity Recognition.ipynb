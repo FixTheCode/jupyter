{
  "cells": [
    {
      "metadata": {},
      "cell_type": "markdown",
      "source": "**Example 1:** Extracting names mentioned in a tweet.  We are using spaCy NLP library in this example.  This is a highly performant NLP library."
    },
    {
      "metadata": {
        "trusted": true
      },
      "cell_type": "code",
      "source": "%%capture capt\n# the installation will take a while when first run\n# verbose output is supresses using a juypter feature call cell magic\n# remove the first line and run again to see output\nimport sys\n!{sys.executable} -m pip install spacy\n!python -m spacy download en_core_web_sm\n\n# load a library so we can print coloured text\n!{sys.executable} -m pip install termcolor",
      "execution_count": 20,
      "outputs": []
    },
    {
      "metadata": {
        "trusted": true
      },
      "cell_type": "code",
      "source": "import spacy\nfrom termcolor import colored\n\n# load the English, tokenizer, tagger, parser and NER clever stuff\nnlp = spacy.load(\"en_core_web_sm\")\n\n# used a tweet as the sample text\ntweet = (\"I'm in favour of people of talent being able to come to this country... but I'm also \"\n         \"in favour of control Boris Johnson describes how UK immigration would work under a Tory government, \"\n         \"as Home Secretary Priti Patel pledges to cut immigration overall.\")\ndoc = nlp(tweet)\n\n# analyze syntax\nprint (\"\\nNoun phrases\\n\", [chunk.text for chunk in doc.noun_chunks])\nprint (\"\\nVerbs\\n\", [token.lemma_ for token in doc if token.pos_ == \"VERB\"])\n\n# display just the names mentioned in the tweet\nprint(\"\\nPeople mentioned in tweet\\n\")\nfor entity in doc.ents:\n    if (entity.label_ == \"PERSON\"): \n        print (colored(entity.text, 'blue'))",
      "execution_count": 21,
      "outputs": [
        {
          "output_type": "stream",
          "text": "\nNoun phrases\n ['I', 'favour', 'people', 'talent', 'this country', 'I', 'favour', 'control', 'Boris Johnson', 'UK immigration', 'a Tory government', 'Home Secretary Priti Patel', 'immigration']\n\nVerbs\n ['come', 'describe', 'work', 'cut']\n\nPeople mentioned in tweet\n\n\u001b[34mBoris Johnson\u001b[0m\n\u001b[34mPriti Patel\u001b[0m\n",
          "name": "stdout"
        }
      ]
    },
    {
      "metadata": {},
      "cell_type": "markdown",
      "source": "**Example 2:** Extracting multiple names from a block of text.  The first example seems to work, but can multiple names be extracted reliably from unstructured text?"
    },
    {
      "metadata": {
        "trusted": true
      },
      "cell_type": "code",
      "source": "import spacy\nimport sys\nimport os\nfrom termcolor import colored\n\n# load the English, tokenizer, tagger, parser and NER clever stuff\nnlp = spacy.load(\"en_core_web_sm\")\n\n# load a suitable test file, the lyrics to We Didn't Start the Fire by Billy Joel\nf = open('Files/lyrics.txt', 'r')\n\n# show the lyrics for the Gen Z's looking at this\nlyrics = f.read()\nprint(lyrics)\n\n# lets see how many names are identified\ndoc = nlp(lyrics)\nprint(\"\\nPeople Billy Joel mentions...\\n\")\nname_count=0\nfor entity in doc.ents:\n    if (entity.label_ == \"PERSON\"):\n        name_count+=1\n        print (name_count, ' ',colored(entity.text.splitlines(), 'blue'), entity.label_)",
      "execution_count": 39,
      "outputs": [
        {
          "output_type": "stream",
          "text": "Harry Truman, Doris Day, Red China, Johnnie Ray\nSouth Pacific, Walter Winchell, Joe DiMaggio\nJoe McCarthy, Richard Nixon, Studebaker, television\nNorth Korea, South Korea, Marilyn Monroe\nRosenbergs, H-bomb, Sugar Ray, Panmunjom\nBrando, \"The King and I\" and \"The Catcher in the Rye\"\nEisenhower, vaccine, England's got a new queen\nMarciano, Liberace, Santayana goodbye\nWe didn't start the fire\nIt was always burning\nSince the world's been turning\nWe didn't start the fire\nNo we didn't light it\nBut we tried to fight it\nJoseph Stalin, Malenkov, Nasser and Prokofiev\nRockefeller, Campanella, Communist Bloc\nRoy Cohn, Juan Peron, Toscanini, Dacron\nDien Bien Phu falls, \"Rock Around the Clock\"\nEinstein, James Dean, Brooklyn's got a winning team\nDavy Crockett, Peter Pan, Elvis Presley, Disneyland\nBardot, Budapest, Alabama, Krushchev\nPrincess Grace, \"Peyton Place\", trouble in the Suez\nWe didn't start the fire\nIt was always burning\nSince the world's been turning\nWe didn't start the fire\nNo we didn't light it\nBut we tried to fight it\nLittle Rock, Pasternak, Mickey Mantle, Kerouac\nSputnik, Chou En-Lai, \"Bridge on the River Kwai\"\nLebanon, Charlse de Gaulle, California baseball\nStarkweather, homicide, children of thalidomide\nBuddy Holly, \"Ben Hur\", space monkey, Mafia\nHula hoops, Castro, Edsel is a no-go\nU2, Syngman Rhee, payola and Kennedy\nChubby Checker, \"Psycho\", Belgians in the Congo\nWe didn't start the fire\nIt was always burning\nSince the world's been turning\nWe didn't start the fire\nNo we didn't light it\nBut we tried to fight it\nHemingway, Eichmann, \"Stranger in a Strange Land\"\nDylan, Berlin, Bay of Pigs invasion\n\"Lawrence of Arabia\", British Beatlemania\nOle Miss, John Glenn, Liston beats Patterson\nPope Paul, Malcolm X, British politician sex\nJFK, blown away, what else do I have to say\nWe didn't start the fire\nIt was always burning\nSince the world's been turning\nWe didn't start the fire\nNo we didn't light it\nBut we tried to fight it\nBirth control, Ho Chi Minh, Richard Nixon back again\nMoonshot, Woodstock, Watergate, punk rock\nBegin, Reagan, Palestine, terror on the airline\nAyatollah's in Iran, Russians in Afghanistan\n\"Wheel of Fortune\", Sally Ride, heavy metal, suicide\nForeign debts, homeless vets, AIDS, crack, Bernie Goetz\nHypodermics on the shores, China's under martial law\nRock and roller cola wars, I can't take it anymore\nWe didn't start the fire\nIt was always burning\nSince the world's been turning\nWe didn't start the fire\nBut when we are gone\nWill it still burn on, and on, and on, and on\nWe didn't start the fire\nIt was always burning\nSince the world's been turning\nWe didn't start the fire\nNo we didn't light it\nBut we tried to fight it\nWe didn't start the fire\nIt was always burning\nSince the world's been turning\nWe didn't start the fire\nNo we didn't light it\nBut we tried to fight it\n\nPeople Billy Joel mentions...\n\n1   \u001b[34m['Harry Truman']\u001b[0m PERSON\n2   \u001b[34m['Doris Day']\u001b[0m PERSON\n3   \u001b[34m['Johnnie Ray', 'South Pacific']\u001b[0m PERSON\n4   \u001b[34m['Walter Winchell']\u001b[0m PERSON\n5   \u001b[34m['Joe DiMaggio', 'Joe McCarthy']\u001b[0m PERSON\n6   \u001b[34m['Richard Nixon']\u001b[0m PERSON\n7   \u001b[34m['Studebaker']\u001b[0m PERSON\n8   \u001b[34m['Marilyn Monroe', 'Rosenbergs']\u001b[0m PERSON\n9   \u001b[34m['Sugar Ray']\u001b[0m PERSON\n10   \u001b[34m['Panmunjom', 'Brando']\u001b[0m PERSON\n11   \u001b[34m['Joseph Stalin']\u001b[0m PERSON\n12   \u001b[34m['Nasser']\u001b[0m PERSON\n13   \u001b[34m['Campanella']\u001b[0m PERSON\n14   \u001b[34m['Bloc', 'Roy Cohn']\u001b[0m PERSON\n15   \u001b[34m['Juan Peron']\u001b[0m PERSON\n16   \u001b[34m['Toscanini']\u001b[0m PERSON\n17   \u001b[34m['Dacron']\u001b[0m PERSON\n18   \u001b[34m['Bien Phu']\u001b[0m PERSON\n19   \u001b[34m['James Dean']\u001b[0m PERSON\n20   \u001b[34m['Peter Pan']\u001b[0m PERSON\n21   \u001b[34m['Elvis Presley']\u001b[0m PERSON\n22   \u001b[34m['Disneyland', 'Bardot']\u001b[0m PERSON\n23   \u001b[34m['Grace']\u001b[0m PERSON\n24   \u001b[34m['Mickey Mantle']\u001b[0m PERSON\n25   \u001b[34m['Kerouac', 'Sputnik']\u001b[0m PERSON\n26   \u001b[34m['Chou En-Lai']\u001b[0m PERSON\n27   \u001b[34m['Charlse de Gaulle']\u001b[0m PERSON\n28   \u001b[34m['Ben Hur']\u001b[0m PERSON\n29   \u001b[34m['Castro']\u001b[0m PERSON\n30   \u001b[34m['Syngman Rhee']\u001b[0m PERSON\n31   \u001b[34m['Kennedy', 'Chubby Checker']\u001b[0m PERSON\n32   \u001b[34m['Psycho']\u001b[0m PERSON\n33   \u001b[34m['Beatlemania', 'Ole Miss']\u001b[0m PERSON\n34   \u001b[34m['John Glenn']\u001b[0m PERSON\n35   \u001b[34m['Patterson']\u001b[0m PERSON\n36   \u001b[34m['Paul']\u001b[0m PERSON\n37   \u001b[34m['Malcolm X']\u001b[0m PERSON\n38   \u001b[34m['Richard Nixon']\u001b[0m PERSON\n39   \u001b[34m['Reagan']\u001b[0m PERSON\n40   \u001b[34m['Sally Ride']\u001b[0m PERSON\n41   \u001b[34m['Bernie Goetz', 'Hypodermics']\u001b[0m PERSON\n",
          "name": "stdout"
        }
      ]
    },
    {
      "metadata": {},
      "cell_type": "markdown",
      "source": "The output from the above code is not bad but the trained Machine Learning model that is used has missed some names and incorrectly identifed others.   Some of the errors come from the way two single names end one line and begin the next. This is assumed to be a name e.g. Kerouac Sputnik, Beatlemania Ole Miss and Psycho.  \n\nSome names are missed completely such as Eisenhower and Davy Crockett.  The take away here is that this sort of process is not for situations where 100% of names in a document must be extracted."
    },
    {
      "metadata": {},
      "cell_type": "markdown",
      "source": "**Example 3:** OCR. This example shows how to extract names from images. Both typed and handwritten examples are show.  Pytesseract is a wrapper to Google's Tesseract-OCR Engine which also needs to be installed.  "
    },
    {
      "metadata": {
        "trusted": true
      },
      "cell_type": "code",
      "source": "%%capture capt\n# install an OCR library\nimport sys\n!conda install -y -c conda-forge tesseract\n!{sys.executable} -m pip install Pillow\n!{sys.executable} -m pip install pytesseract",
      "execution_count": 1,
      "outputs": [
      ]
    },
    {
      "metadata": {
        "trusted": true
      },
      "cell_type": "code",
      "source": "import pytesseract \nfrom pytesseract import image_to_string\nfrom PIL import Image\n\ndef ocr(filename):\n    txt = pytesseract.image_to_string(Image.open(filename))\n    return txt\n\ntxt = ocr('Files/image.png')\nprint(txt)\n\ntxt2 = ocr('Files/handwritten.png')\nprint(txt2)",
      "execution_count": 17,
      "outputs": [
        {
          "output_type": "stream",
          "text": "Company Pool Ladder\n\n \n\n \n\n \n\n \n\n \n\nPlayer Name Skill\nPlayer 1 Robin Banks Advanced\nPlayer 2 Joe Bloggs Good\nPlayer 3 Frank Sidebottom Ace\nPlayer 4 Sally Snider Lucky\nPlayer 5 Mary Marks Advanced\nPlayer 6 Billy Kidson Good\nPlayer 7 Robin Robyns Average\nPlayer 8 Kim Jon Ho Average\nPlayer 9 Aimee Bisset Average\nCampiny Paul Ladder\n\n \n\ntheVS 5, I13 mm W\n\n \n\n‘P‘aver! ‘ M J.” u. mg:\n",
          "name": "stdout"
        }
      ]
    },
    {
      "metadata": {
        "trusted": true
      },
      "cell_type": "markdown",
      "source": "Note how the OCR of the handwritten text is poor.  To overcome this you would need to train a tesseract model or use a combination of other vision detection software and machine learning tools such as OpenCV and TensorFlow.  The code for this becomes much more complex."
    },
    {
      "metadata": {},
      "cell_type": "markdown",
      "source": "**Example 4:** Extracting names from the OCR data.  spaCy was pretty good so we'll give it a try again."
    },
    {
      "metadata": {
        "trusted": true
      },
      "cell_type": "code",
      "source": "import spacy\n\n# load the English, tokenizer, tagger, parser and NER clever stuff\nnlp = spacy.load(\"en_core_web_sm\")\n\n# lets see how many names are identified\ndoc = nlp(txt)\nprint(\"\\nPeople Billy Joel mentions...\\n\")\nname_count=0\nfor entity in doc.ents:\n    if (entity.label_ == \"PERSON\"):\n        name_count+=1\n        print (name_count, ' ',entity.text.splitlines(), entity.label_)",
      "execution_count": 26,
      "outputs": [
        {
          "output_type": "stream",
          "text": "\nPeople Billy Joel mentions...\n\n1   ['1 Robin Banks'] PERSON\n2   ['3 Frank Sidebottom Ace'] PERSON\n3   ['Robin Robyns'] PERSON\n",
          "name": "stdout"
        }
      ]
    },
    {
      "metadata": {},
      "cell_type": "markdown",
      "source": "When I ran this I only got three names and the"
    },
    {
      "metadata": {
        "trusted": true
      },
      "cell_type": "code",
      "source": "import spacy\nfrom spacy import displacy\nsp = spacy.load('en_core_web_sm')\n\ns = sp(txt.strip().replace('\\n',''))\ndisplacy.render(s, style='ent', jupyter=True)",
      "execution_count": 25,
      "outputs": [
        {
          "output_type": "display_data",
          "data": {
            "text/html": "<div class=\"entities\" style=\"line-height: 2.5; direction: ltr\">Company Pool Ladder     Player Name SkillPlayer 1 Robin Banks AdvancedPlayer 2 Joe Bloggs GoodPlayer 3 Frank Sidebottom AcePlayer 4 Sally Snider LuckyPlayer 5 Mary Marks AdvancedPlayer 6 Billy Kidson GoodPlayer 7 \n<mark class=\"entity\" style=\"background: #aa9cfc; padding: 0.45em 0.6em; margin: 0 0.25em; line-height: 1; border-radius: 0.35em;\">\n    Robin Robyns\n    <span style=\"font-size: 0.8em; font-weight: bold; line-height: 1; border-radius: 0.35em; text-transform: uppercase; vertical-align: middle; margin-left: 0.5rem\">PERSON</span>\n</mark>\n AveragePlayer 8 Kim \n<mark class=\"entity\" style=\"background: #aa9cfc; padding: 0.45em 0.6em; margin: 0 0.25em; line-height: 1; border-radius: 0.35em;\">\n    Jon Ho\n    <span style=\"font-size: 0.8em; font-weight: bold; line-height: 1; border-radius: 0.35em; text-transform: uppercase; vertical-align: middle; margin-left: 0.5rem\">PERSON</span>\n</mark>\n AveragePlayer \n<mark class=\"entity\" style=\"background: #e4e7d2; padding: 0.45em 0.6em; margin: 0 0.25em; line-height: 1; border-radius: 0.35em;\">\n    9\n    <span style=\"font-size: 0.8em; font-weight: bold; line-height: 1; border-radius: 0.35em; text-transform: uppercase; vertical-align: middle; margin-left: 0.5rem\">CARDINAL</span>\n</mark>\n Aimee Bisset Average</div>",
            "text/plain": "<IPython.core.display.HTML object>"
          },
          "metadata": {}
        }
      ]
    },
    {
      "metadata": {
        "trusted": true
      },
      "cell_type": "code",
      "source": "",
      "execution_count": null,
      "outputs": []
    }
  ],
  "metadata": {
    "kernelspec": {
      "name": "python36",
      "display_name": "Python 3.6",
      "language": "python"
    },
    "language_info": {
      "mimetype": "text/x-python",
      "nbconvert_exporter": "python",
      "name": "python",
      "pygments_lexer": "ipython3",
      "version": "3.6.6",
      "file_extension": ".py",
      "codemirror_mode": {
        "version": 3,
        "name": "ipython"
      }
    }
  },
  "nbformat": 4,
  "nbformat_minor": 2
}