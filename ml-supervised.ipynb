{
 "cells": [
  {
   "cell_type": "code",
   "execution_count": 1,
   "metadata": {},
   "outputs": [],
   "source": [
    "# sample data from data.world on diabetic predictions from \n",
    "# a biostatistics program conducted Vanderbilt University\n",
    "# School of Medicine\n",
    "\n",
    "# regression data\n",
    "# column 0: cholesterol\n",
    "# column 1: waist size\n",
    "# column 2: male = 1, female = 0\n",
    "data = ([\n",
    "[220,33,1],[194,33,0],[191,53,0],[245,37,1],[203,48,0],\n",
    "[267,40,0],[190,40,0],[207,46,0],[219,41,1],[245,35,0],\n",
    "[173,42,1],[160,49,1],[237,43,0],[181,56,1],[140,37,1],\n",
    "[215,52,0],[218,42,0],[443,43,0],[196,34,0],[242,43,1],\n",
    "[296,35,1],[179,38,1],[219,41,0],[404,38,1],[209,36,0],\n",
    "[115,30,1],[193,38,0],[195,38,0],[219,37,1],[289,36,1],\n",
    "[279,48,0],[128,42,1],[203,36,0],[211,40,0],[265,39,1],\n",
    "[235,55,0],[196,46,0],[283,44,0],[215,34,0],[342,45,0],\n",
    "[181,44,1],[249,44,1],[249,33,0],[159,43,1],[224,42,1],\n",
    "[246,45,0],[204,36,1],[254,36,1],[182,45,1],[289,51,0],\n",
    "[213,34,0],[207,39,1],[237,38,0],[296,42,0],[254,44,1],\n",
    "[209,35,0],[292,39,1],[252,44,0],[226,41,0],[232,35,0],\n",
    "])"
   ]
  },
  {
   "cell_type": "code",
   "execution_count": 3,
   "metadata": {},
   "outputs": [
    {
     "data": {
      "text/plain": [
       "<matplotlib.axes._subplots.AxesSubplot at 0x7ff59e1c30b8>"
      ]
     },
     "execution_count": 3,
     "metadata": {},
     "output_type": "execute_result"
    },
    {
     "data": {
      "image/png": "[encoded data removed]",
      "text/plain": [
       "<Figure size 432x288 with 1 Axes>"
      ]
     },
     "metadata": {
      "needs_background": "light"
     },
     "output_type": "display_data"
    }
   ],
   "source": [
    "# visualise our data set\n",
    "import numpy as np\n",
    "import pandas as pd\n",
    "import matplotlib.pyplot as plt\n",
    "df = pd.DataFrame(data)\n",
    "df.columns = ['Cholesterol', 'Waist Size', 'Gender']\n",
    "df.plot(x ='Cholesterol', y='Waist Size', kind = 'scatter')"
   ]
  },
  {
   "cell_type": "code",
   "execution_count": 4,
   "metadata": {},
   "outputs": [
    {
     "data": {
      "image/png": "[encoded data removed]",
      "text/plain": [
       "<Figure size 432x288 with 1 Axes>"
      ]
     },
     "metadata": {
      "needs_background": "light"
     },
     "output_type": "display_data"
    }
   ],
   "source": [
    "# example of applying brand styles to charts\n",
    "import os\n",
    "import matplotlib.patches as pat\n",
    "import matplotlib.pyplot as plt\n",
    "import matplotlib.font_manager as fm\n",
    "from matplotlib import colors\n",
    "\n",
    "# sets the scatter colours based on gender value in dataset. an alternatice\n",
    "# would be to use a custom colour map in the df.plot.scatter invocation but\n",
    "# you would have to format the colour bar that is created.\n",
    "def setColour():\n",
    "    cols=[]\n",
    "    for row in data:\n",
    "        if (row[2]==0):\n",
    "            cols.append('#585094')\n",
    "        elif (row[2]==1):\n",
    "            cols.append('#009578')\n",
    "    return cols\n",
    "\n",
    "SMALL_FONT = 8\n",
    "MEDIUM_FONT = 12\n",
    "LARGE_FONT = 14\n",
    "TRIAD_GREEN = '#009578'\n",
    "plt.rc('font', size=LARGE_FONT)         \n",
    "plt.rc('axes', titlesize=LARGE_FONT)     \n",
    "plt.rc('axes', labelsize=LARGE_FONT)    \n",
    "plt.rc('xtick', labelsize=SMALL_FONT)    \n",
    "plt.rc('ytick', labelsize=SMALL_FONT)    \n",
    "plt.rc('legend', fontsize=SMALL_FONT)    \n",
    "plt.rc('figure', titlesize=LARGE_FONT)  \n",
    "ubuntu = fm.FontProperties(fname='files/Ubuntu-R.ttf')\n",
    "colours = ['#585094','#009578']\n",
    "\n",
    "df = pd.DataFrame(data)\n",
    "cols = setColour()\n",
    "df.columns = ['Cholesterol', 'Waist Size', 'Gender']\n",
    "#ax = df.plot.scatter(x ='Cholesterol', y='Waist Size', c=cols)\n",
    "ax = df.plot.scatter(x ='Cholesterol', y='Waist Size', c=df['Gender'].apply(lambda x: colours[x]))\n",
    "\n",
    "# we need to tweak the chart above as the x and y axis are not equal and our\n",
    "# circle would be rendered as an ellipse. we also limit the y scale to reduce whitespace\n",
    "ax.set_aspect('equal')\n",
    "ax.set_ylim([0,90])\n",
    "ax.set_xlabel('Cholesterol',color=TRIAD_GREEN,fontproperties=ubuntu)\n",
    "ax.set_ylabel('Waist Size', color=TRIAD_GREEN,fontproperties=ubuntu)\n",
    "circle = pat.Circle(xy=(220, 30), radius=20, alpha=0.3, facecolor=TRIAD_GREEN)\n",
    "ax.add_patch(circle)\n",
    "\n",
    "# alternative custom legend using the same patch technique we used for the circle\n",
    "leg1 = pat.Patch(color='#585094', label='Female')\n",
    "leg2 = pat.Patch(color='#009578', label='Male')\n",
    "plt.legend(handles=[leg1, leg2])\n",
    "\n",
    "plt.title(\"Diabetics Waist Size and Cholesterol Levels\", fontproperties=ubuntu,color=TRIAD_GREEN, fontweight='bold')\n",
    "plt.show()"
   ]
  },
  {
   "cell_type": "code",
   "execution_count": 5,
   "metadata": {},
   "outputs": [],
   "source": [
    "from sklearn.neighbors import NearestNeighbors\n",
    "import numpy as np\n",
    "\n",
    "X = np.array(data)\n",
    "K = 2\n",
    "nbrs = NearestNeighbors(n_neighbors=K, algorithm='ball_tree').fit(X)\n",
    "distances, indices = nbrs.kneighbors(X)"
   ]
  },
  {
   "cell_type": "code",
   "execution_count": 6,
   "metadata": {},
   "outputs": [
    {
     "name": "stdout",
     "output_type": "stream",
     "text": [
      "Requirement already satisfied: colored in /opt/conda/lib/python3.7/site-packages (1.4.1)\r\n"
     ]
    }
   ],
   "source": [
    "#%%capture capt\n",
    "!pip install colored \n",
    "# terminal colours\n",
    "from colored import fg, bg, attr\n",
    "colour= fg('#009578')\n",
    "reset=attr('reset')"
   ]
  },
  {
   "cell_type": "code",
   "execution_count": 7,
   "metadata": {},
   "outputs": [
    {
     "name": "stdout",
     "output_type": "stream",
     "text": [
      "\u001b[38;5;30mPredicted waist size for cholesterol levels of 150, 220 and 300 is:\u001b[0m\n",
      "K=10: [42.6 39.7 41.9]\n",
      "K=8 : [43.9 40.2 41.9]\n",
      "K=6 : [41.8 39.3 41.2]\n",
      "K=4 : [42.8 38.  38. ]\n",
      "\u001b[38;5;30mFinished\u001b[0m\n"
     ]
    }
   ],
   "source": [
    "# K nearest neighbour regression, the average of the values of K nearest neighbours.\n",
    "# we'll use scikit-learn to avoid having to code this https://en.wikipedia.org/wiki/K-nearest_neighbors_algorithm \n",
    "from sklearn.neighbors import KNeighborsRegressor\n",
    "\n",
    "# dataset (X=cholesterol, y=waist size)\n",
    "dataset = np.array(data)\n",
    "X = dataset[:,0:1]\n",
    "y = dataset[:,1]\n",
    "\n",
    "# run a number of predictions by decreasing the number of nearest neighbours\n",
    "print(colour + 'Predicted waist size for cholesterol levels of 150, 220 and 300 is:'+ reset)\n",
    "for k in range(10, 2, -2):\n",
    "    neigh = KNeighborsRegressor(n_neighbors=k)\n",
    "    neigh.fit(X, y)\n",
    "    print('K={0:2}: '.format(str(k)), end=(''))\n",
    "    print(neigh.predict([[150],[220],[300]]).round(1))\n",
    "print(colour+'Finished'+reset)"
   ]
  },
  {
   "cell_type": "code",
   "execution_count": 12,
   "metadata": {},
   "outputs": [
    {
     "data": {
      "image/png": "[encoded data removed]",
      "text/plain": [
       "<Figure size 432x288 with 1 Axes>"
      ]
     },
     "metadata": {
      "needs_background": "light"
     },
     "output_type": "display_data"
    }
   ],
   "source": [
    "# to be revisited and recharted with additional data points.\n",
    "import numpy as np\n",
    "import matplotlib.pyplot as plt\n",
    "from sklearn import neighbors\n",
    "from sklearn.neighbors import KNeighborsRegressor\n",
    "\n",
    "# dataset (X=cholesterol, y=waist size, T=array of cholesterol levels for prediction)\n",
    "dataset = np.array(data)\n",
    "X = dataset[:,0:1]\n",
    "y = dataset[:,1]\n",
    "T = [[100],[200],[300],[400],[500]]\n",
    "\n",
    "# fit regression model to 10 nearest neighbours\n",
    "n_neighbors = 10\n",
    "knn = neighbors.KNeighborsRegressor(n_neighbors, weights='distance')\n",
    "y_ = knn.fit(X, y).predict(T)\n",
    "\n",
    "# plot data and prediction\n",
    "plt.scatter(X, y, c='k', label='data')\n",
    "plt.plot(T, y_, c='g', label='prediction')\n",
    "plt.legend()\n",
    "plt.title(\"Predicted waist size (k = %i)\" % n_neighbors)\n",
    "plt.show()"
   ]
  },
  {
   "cell_type": "code",
   "execution_count": null,
   "metadata": {},
   "outputs": [],
   "source": []
  }
 ],
 "metadata": {
  "kernelspec": {
   "display_name": "Python 3",
   "language": "python",
   "name": "python3"
  },
  "language_info": {
   "codemirror_mode": {
    "name": "ipython",
    "version": 3
   },
   "file_extension": ".py",
   "mimetype": "text/x-python",
   "name": "python",
   "nbconvert_exporter": "python",
   "pygments_lexer": "ipython3",
   "version": "3.7.3"
  }
 },
 "nbformat": 4,
 "nbformat_minor": 2
}
